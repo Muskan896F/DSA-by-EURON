{
 "cells": [
  {
   "cell_type": "code",
   "execution_count": 2,
   "id": "6486fc32",
   "metadata": {},
   "outputs": [
    {
     "name": "stdout",
     "output_type": "stream",
     "text": [
      "my name is muskan  i am a data scientist\n"
     ]
    }
   ],
   "source": [
    "print(\"my name is muskan  i am a data scientist\")"
   ]
  },
  {
   "cell_type": "code",
   "execution_count": 3,
   "id": "7762e985",
   "metadata": {},
   "outputs": [
    {
     "name": "stdout",
     "output_type": "stream",
     "text": [
      "my name is muskan  \n",
      "i am a data scientist\n"
     ]
    }
   ],
   "source": [
    "print(\"my name is muskan  \\ni am a data scientist\")"
   ]
  },
  {
   "cell_type": "code",
   "execution_count": 4,
   "id": "9ff96a15",
   "metadata": {},
   "outputs": [
    {
     "name": "stdout",
     "output_type": "stream",
     "text": [
      "my name is muskan  \ti am a data scientist\n"
     ]
    }
   ],
   "source": [
    "print(\"my name is muskan  \\ti am a data scientist\")"
   ]
  },
  {
   "cell_type": "code",
   "execution_count": 5,
   "id": "4c5b0c5a",
   "metadata": {},
   "outputs": [
    {
     "name": "stdout",
     "output_type": "stream",
     "text": [
      "\\\n"
     ]
    }
   ],
   "source": [
    "print(\"\\\\\")"
   ]
  },
  {
   "cell_type": "code",
   "execution_count": 7,
   "id": "60a4e7cc",
   "metadata": {},
   "outputs": [
    {
     "name": "stdout",
     "output_type": "stream",
     "text": [
      "😀\n"
     ]
    }
   ],
   "source": [
    "print(\"\\U0001F600\")"
   ]
  },
  {
   "cell_type": "code",
   "execution_count": 8,
   "id": "620b8fc4",
   "metadata": {},
   "outputs": [
    {
     "name": "stdout",
     "output_type": "stream",
     "text": [
      "©\n"
     ]
    }
   ],
   "source": [
    "print(\"\\u00A9\")"
   ]
  },
  {
   "cell_type": "code",
   "execution_count": 9,
   "id": "9d0d8bb1",
   "metadata": {},
   "outputs": [
    {
     "name": "stdout",
     "output_type": "stream",
     "text": [
      "Δ\n"
     ]
    }
   ],
   "source": [
    "print(\"\\N{GREEK CAPITAL LETTER DELTA}\")"
   ]
  },
  {
   "cell_type": "code",
   "execution_count": 10,
   "id": "0e2740b0",
   "metadata": {},
   "outputs": [
    {
     "name": "stdout",
     "output_type": "stream",
     "text": [
      "ὤ3\n"
     ]
    }
   ],
   "source": [
    "print(\"\\u1F643\")"
   ]
  },
  {
   "cell_type": "code",
   "execution_count": 11,
   "id": "51ed8949",
   "metadata": {},
   "outputs": [
    {
     "name": "stdout",
     "output_type": "stream",
     "text": [
      "☺\n"
     ]
    }
   ],
   "source": [
    "print(\"\\u263A\")"
   ]
  },
  {
   "cell_type": "code",
   "execution_count": 12,
   "id": "0a6372eb",
   "metadata": {},
   "outputs": [
    {
     "data": {
      "text/plain": [
       "'my name is muskan\\ni am a data scientist\\ni study in cu'"
      ]
     },
     "execution_count": 12,
     "metadata": {},
     "output_type": "execute_result"
    }
   ],
   "source": [
    "\"\"\"my name is muskan\n",
    "i am a data scientist\n",
    "i study in cu\"\"\""
   ]
  },
  {
   "cell_type": "code",
   "execution_count": 13,
   "id": "54bfda15",
   "metadata": {},
   "outputs": [
    {
     "data": {
      "text/plain": [
       "'my name is muskani am a data scientisti study in cu'"
      ]
     },
     "execution_count": 13,
     "metadata": {},
     "output_type": "execute_result"
    }
   ],
   "source": [
    "\"my name is muskan\"\\\n",
    "\"i am a data scientist\"\\\n",
    "\"i study in cu\""
   ]
  },
  {
   "cell_type": "code",
   "execution_count": 17,
   "id": "4fc34fe9",
   "metadata": {},
   "outputs": [
    {
     "name": "stdout",
     "output_type": "stream",
     "text": [
      "my name is muskan my age is 25 my phone number is 1234567890\n"
     ]
    }
   ],
   "source": [
    "name = \"muskan\"\n",
    "age = 25\n",
    "phone = 1234567890\n",
    "print(f\"my name is {name} my age is {age} my phone number is {phone}\")"
   ]
  },
  {
   "cell_type": "code",
   "execution_count": 18,
   "id": "d4004750",
   "metadata": {},
   "outputs": [
    {
     "name": "stdout",
     "output_type": "stream",
     "text": [
      "my name is muskii my age is 25 my phone number is 1234567890\n"
     ]
    }
   ],
   "source": [
    "name = input(\"enter your name\")\n",
    "age = 25\n",
    "phone = 1234567890\n",
    "print(f\"my name is {name} my age is {age} my phone number is {phone}\")"
   ]
  },
  {
   "cell_type": "code",
   "execution_count": 19,
   "id": "29a0817a",
   "metadata": {},
   "outputs": [
    {
     "name": "stdout",
     "output_type": "stream",
     "text": [
      "my name is muskan my age is 25 my phone number is 1234567890\n"
     ]
    }
   ],
   "source": [
    "name = input(\"enter your name\")\n",
    "age = int(input(\"enter your age\"))\n",
    "phone = 1234567890\n",
    "print(f\"my name is {name} my age is {age} my phone number is {phone}\")"
   ]
  },
  {
   "cell_type": "code",
   "execution_count": 20,
   "id": "cfc6c889",
   "metadata": {},
   "outputs": [],
   "source": [
    "name = \"muskan\"\n",
    "age = 25\n",
    "phone = 1234567890"
   ]
  },
  {
   "cell_type": "code",
   "execution_count": 21,
   "id": "0b6a4be6",
   "metadata": {},
   "outputs": [
    {
     "name": "stdout",
     "output_type": "stream",
     "text": [
      "my name is muskan my age is 25\n"
     ]
    }
   ],
   "source": [
    "print(\"my name is {} my age is {}\".format(name, age))"
   ]
  },
  {
   "cell_type": "code",
   "execution_count": 22,
   "id": "1dc8200c",
   "metadata": {},
   "outputs": [
    {
     "name": "stdout",
     "output_type": "stream",
     "text": [
      "my name is muskan my age is 25\n"
     ]
    }
   ],
   "source": [
    "print(\"my name is {n} my age is {a}\".format(a=age,n=name))"
   ]
  },
  {
   "cell_type": "code",
   "execution_count": 23,
   "id": "b5ec481d",
   "metadata": {},
   "outputs": [],
   "source": [
    "from string import Template"
   ]
  },
  {
   "cell_type": "code",
   "execution_count": 24,
   "id": "eab46c88",
   "metadata": {},
   "outputs": [
    {
     "data": {
      "text/plain": [
       "'my name is muskan my age is 25'"
      ]
     },
     "execution_count": 24,
     "metadata": {},
     "output_type": "execute_result"
    }
   ],
   "source": [
    "Template(\"my name is $name my age is $age\").substitute(name=name, age=age)"
   ]
  },
  {
   "cell_type": "code",
   "execution_count": 25,
   "id": "87057981",
   "metadata": {},
   "outputs": [],
   "source": [
    "email_template = Template(\"\"\"\n",
    "                          From:$sender\n",
    "                          To:$receiver\n",
    "                          Subject:$subject\n",
    "                          $body\"\"\")"
   ]
  },
  {
   "cell_type": "code",
   "execution_count": 26,
   "id": "3d0d6d3d",
   "metadata": {},
   "outputs": [
    {
     "data": {
      "text/plain": [
       "'\\n                          From:muskan\\n                          To:23msm40030\\n                          Subject:test mail\\n                          how are you'"
      ]
     },
     "execution_count": 26,
     "metadata": {},
     "output_type": "execute_result"
    }
   ],
   "source": [
    "email_template.substitute(sender=\"muskan\", receiver=\"23msm40030\", subject=\"test mail\", body=\"how are you\")"
   ]
  },
  {
   "cell_type": "code",
   "execution_count": 28,
   "id": "d3aa94fd",
   "metadata": {},
   "outputs": [
    {
     "data": {
      "text/plain": [
       "'\\n                          From:muskii\\n                          To:23msm40030\\n                          Subject:test mail\\n                          how are you'"
      ]
     },
     "execution_count": 28,
     "metadata": {},
     "output_type": "execute_result"
    }
   ],
   "source": [
    "email_template.substitute(sender=input(\"enter a sender information\"), receiver=\"23msm40030\", subject=\"test mail\", body=\"how are you\")"
   ]
  },
  {
   "cell_type": "code",
   "execution_count": 27,
   "id": "57797358",
   "metadata": {},
   "outputs": [
    {
     "name": "stdout",
     "output_type": "stream",
     "text": [
      "The End\n"
     ]
    }
   ],
   "source": [
    "print(\"The End\")"
   ]
  }
 ],
 "metadata": {
  "kernelspec": {
   "display_name": "Python 3",
   "language": "python",
   "name": "python3"
  },
  "language_info": {
   "codemirror_mode": {
    "name": "ipython",
    "version": 3
   },
   "file_extension": ".py",
   "mimetype": "text/x-python",
   "name": "python",
   "nbconvert_exporter": "python",
   "pygments_lexer": "ipython3",
   "version": "3.10.0"
  }
 },
 "nbformat": 4,
 "nbformat_minor": 5
}
