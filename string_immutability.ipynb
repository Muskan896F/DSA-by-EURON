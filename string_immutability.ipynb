{
 "cells": [
  {
   "cell_type": "code",
   "execution_count": 1,
   "id": "b557d0f9",
   "metadata": {},
   "outputs": [],
   "source": [
    "s = \"muskan\""
   ]
  },
  {
   "cell_type": "code",
   "execution_count": 2,
   "id": "b9665125",
   "metadata": {},
   "outputs": [
    {
     "data": {
      "text/plain": [
       "2059417915504"
      ]
     },
     "execution_count": 2,
     "metadata": {},
     "output_type": "execute_result"
    }
   ],
   "source": [
    "id(s)"
   ]
  },
  {
   "cell_type": "code",
   "execution_count": 3,
   "id": "cbd4fda4",
   "metadata": {},
   "outputs": [],
   "source": [
    "modify = s +\"ara\""
   ]
  },
  {
   "cell_type": "code",
   "execution_count": 4,
   "id": "0c334e31",
   "metadata": {},
   "outputs": [
    {
     "data": {
      "text/plain": [
       "2059434692144"
      ]
     },
     "execution_count": 4,
     "metadata": {},
     "output_type": "execute_result"
    }
   ],
   "source": [
    "id(modify)"
   ]
  },
  {
   "cell_type": "code",
   "execution_count": 5,
   "id": "946b7247",
   "metadata": {},
   "outputs": [
    {
     "data": {
      "text/plain": [
       "'muskanara'"
      ]
     },
     "execution_count": 5,
     "metadata": {},
     "output_type": "execute_result"
    }
   ],
   "source": [
    "modify"
   ]
  },
  {
   "cell_type": "code",
   "execution_count": 6,
   "id": "75203242",
   "metadata": {},
   "outputs": [
    {
     "data": {
      "text/plain": [
       "2059434704432"
      ]
     },
     "execution_count": 6,
     "metadata": {},
     "output_type": "execute_result"
    }
   ],
   "source": [
    "s = s + \"ara\"\n",
    "id(s)"
   ]
  },
  {
   "cell_type": "code",
   "execution_count": 7,
   "id": "6edd73f0",
   "metadata": {},
   "outputs": [
    {
     "data": {
      "text/plain": [
       "'muskanara'"
      ]
     },
     "execution_count": 7,
     "metadata": {},
     "output_type": "execute_result"
    }
   ],
   "source": [
    "s"
   ]
  },
  {
   "cell_type": "code",
   "execution_count": 12,
   "id": "9b41aa39",
   "metadata": {},
   "outputs": [
    {
     "data": {
      "text/plain": [
       "2057292116592"
      ]
     },
     "execution_count": 12,
     "metadata": {},
     "output_type": "execute_result"
    }
   ],
   "source": [
    "s = \"euron\"\n",
    "id(s)"
   ]
  },
  {
   "cell_type": "code",
   "execution_count": 9,
   "id": "29b9fd30",
   "metadata": {},
   "outputs": [
    {
     "data": {
      "text/plain": [
       "'e'"
      ]
     },
     "execution_count": 9,
     "metadata": {},
     "output_type": "execute_result"
    }
   ],
   "source": [
    "s[0]"
   ]
  },
  {
   "cell_type": "code",
   "execution_count": 10,
   "id": "4d113596",
   "metadata": {},
   "outputs": [
    {
     "ename": "TypeError",
     "evalue": "'str' object does not support item assignment",
     "output_type": "error",
     "traceback": [
      "\u001b[1;31m---------------------------------------------------------------------------\u001b[0m",
      "\u001b[1;31mTypeError\u001b[0m                                 Traceback (most recent call last)",
      "Cell \u001b[1;32mIn[10], line 1\u001b[0m\n\u001b[1;32m----> 1\u001b[0m \u001b[43ms\u001b[49m\u001b[43m[\u001b[49m\u001b[38;5;241;43m0\u001b[39;49m\u001b[43m]\u001b[49m \u001b[38;5;241m=\u001b[39m \u001b[38;5;124m\"\u001b[39m\u001b[38;5;124ms\u001b[39m\u001b[38;5;124m\"\u001b[39m\n",
      "\u001b[1;31mTypeError\u001b[0m: 'str' object does not support item assignment"
     ]
    }
   ],
   "source": [
    "s[0] = \"s\""
   ]
  },
  {
   "cell_type": "code",
   "execution_count": 11,
   "id": "a10245c9",
   "metadata": {},
   "outputs": [
    {
     "data": {
      "text/plain": [
       "2057292078320"
      ]
     },
     "execution_count": 11,
     "metadata": {},
     "output_type": "execute_result"
    }
   ],
   "source": [
    "s = \"suron\"\n",
    "id(s)"
   ]
  },
  {
   "cell_type": "markdown",
   "id": "ebde67d2",
   "metadata": {},
   "source": [
    "## **Interning**"
   ]
  },
  {
   "cell_type": "code",
   "execution_count": 17,
   "id": "5ba3ddd5",
   "metadata": {},
   "outputs": [],
   "source": [
    "a =\"euron\"\n",
    "b = \"euron\""
   ]
  },
  {
   "cell_type": "code",
   "execution_count": 18,
   "id": "75d61ee2",
   "metadata": {},
   "outputs": [
    {
     "data": {
      "text/plain": [
       "2057292116592"
      ]
     },
     "execution_count": 18,
     "metadata": {},
     "output_type": "execute_result"
    }
   ],
   "source": [
    "id(a)"
   ]
  },
  {
   "cell_type": "code",
   "execution_count": 19,
   "id": "1bdb20aa",
   "metadata": {},
   "outputs": [
    {
     "data": {
      "text/plain": [
       "2057292116592"
      ]
     },
     "execution_count": 19,
     "metadata": {},
     "output_type": "execute_result"
    }
   ],
   "source": [
    "id(b)"
   ]
  },
  {
   "cell_type": "code",
   "execution_count": 20,
   "id": "e954322b",
   "metadata": {},
   "outputs": [],
   "source": [
    "c = \"muskan\" \"ara\""
   ]
  },
  {
   "cell_type": "code",
   "execution_count": 21,
   "id": "9551b44d",
   "metadata": {},
   "outputs": [],
   "source": [
    "d = \"muskanara\""
   ]
  },
  {
   "cell_type": "code",
   "execution_count": 22,
   "id": "f95b7b33",
   "metadata": {},
   "outputs": [
    {
     "data": {
      "text/plain": [
       "'muskanara'"
      ]
     },
     "execution_count": 22,
     "metadata": {},
     "output_type": "execute_result"
    }
   ],
   "source": [
    "c"
   ]
  },
  {
   "cell_type": "code",
   "execution_count": 23,
   "id": "ed1f0271",
   "metadata": {},
   "outputs": [
    {
     "data": {
      "text/plain": [
       "'muskanara'"
      ]
     },
     "execution_count": 23,
     "metadata": {},
     "output_type": "execute_result"
    }
   ],
   "source": [
    "d"
   ]
  },
  {
   "cell_type": "code",
   "execution_count": 24,
   "id": "a134ae8e",
   "metadata": {},
   "outputs": [
    {
     "data": {
      "text/plain": [
       "2059435226288"
      ]
     },
     "execution_count": 24,
     "metadata": {},
     "output_type": "execute_result"
    }
   ],
   "source": [
    "id(c)"
   ]
  },
  {
   "cell_type": "code",
   "execution_count": 25,
   "id": "81951aa1",
   "metadata": {},
   "outputs": [
    {
     "data": {
      "text/plain": [
       "2059435226288"
      ]
     },
     "execution_count": 25,
     "metadata": {},
     "output_type": "execute_result"
    }
   ],
   "source": [
    "id(d)"
   ]
  },
  {
   "cell_type": "code",
   "execution_count": 26,
   "id": "f688dbff",
   "metadata": {},
   "outputs": [
    {
     "name": "stdout",
     "output_type": "stream",
     "text": [
      "The End\n"
     ]
    }
   ],
   "source": [
    "print(\"The End\")"
   ]
  }
 ],
 "metadata": {
  "kernelspec": {
   "display_name": "Python 3",
   "language": "python",
   "name": "python3"
  },
  "language_info": {
   "codemirror_mode": {
    "name": "ipython",
    "version": 3
   },
   "file_extension": ".py",
   "mimetype": "text/x-python",
   "name": "python",
   "nbconvert_exporter": "python",
   "pygments_lexer": "ipython3",
   "version": "3.10.0"
  }
 },
 "nbformat": 4,
 "nbformat_minor": 5
}
